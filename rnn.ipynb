{
 "cells": [
  {
   "cell_type": "code",
   "execution_count": 1,
   "id": "37203fcd-2720-44e1-abee-497d81c46ca4",
   "metadata": {},
   "outputs": [],
   "source": [
    "import numpy as np\n",
    "import torch"
   ]
  },
  {
   "cell_type": "code",
   "execution_count": 4,
   "id": "4f4a4f6e-43ec-4c9c-a357-97fb02cdd44b",
   "metadata": {},
   "outputs": [],
   "source": [
    "import torch.nn.functional as F\n",
    "import torchvision\n",
    "import matplotlib.pyplot as plt\n",
    "from time import time\n",
    "from torchvision import datasets, transforms\n",
    "from torch import nn, optim"
   ]
  },
  {
   "cell_type": "code",
   "execution_count": 10,
   "id": "1138f6ca-79d9-4f73-a48b-13c148988ae2",
   "metadata": {},
   "outputs": [],
   "source": [
    "transform = transforms.ToTensor() # Conversão de imagem para tensor\n",
    "\n",
    "trainset = datasets.MNIST('./MNIST_data', download=True, \n",
    "               train=True, transform=transform) # Carrega o dataset de treino\n",
    "trainloader = torch.utils.data.DataLoader(trainset, batch_size=64, shuffle=True) # buffer para pegar os dados por partes\n",
    "\n",
    "valset = datasets.MNIST('./MNIST_data', download=True, \n",
    "                        train=False, transform=transform) # Carrega parte da validação\n",
    "valloader = torch.utils.data.DataLoader(valset, batch_size=64, shuffle=True)"
   ]
  },
  {
   "cell_type": "code",
   "execution_count": 18,
   "id": "19f0bcc0-9d4d-4e58-97e6-1aa928fb47f3",
   "metadata": {},
   "outputs": [
    {
     "data": {
      "image/png": "[encoded data removed]",
      "text/plain": [
       "<Figure size 640x480 with 1 Axes>"
      ]
     },
     "metadata": {},
     "output_type": "display_data"
    }
   ],
   "source": [
    "dataiter = iter(trainloader)\n",
    "\n",
    "imagens, etiquetas = next(dataiter)\n",
    "plt.imshow(imagens[0].numpy().squeeze(), cmap='gray_r')\n",
    "plt.show()"
   ]
  },
  {
   "cell_type": "code",
   "execution_count": 20,
   "id": "3ffbb3d3-3980-4a1b-89bc-6f123fa61444",
   "metadata": {},
   "outputs": [
    {
     "name": "stdout",
     "output_type": "stream",
     "text": [
      "torch.Size([1, 28, 28])\n",
      "torch.Size([])\n"
     ]
    }
   ],
   "source": [
    "print(imagens[0].shape)\n",
    "print(etiquetas[0].shape)"
   ]
  },
  {
   "cell_type": "code",
   "execution_count": 21,
   "id": "3847c81c-015f-4c4f-a217-6d98139efe09",
   "metadata": {},
   "outputs": [],
   "source": [
    "class Modelo(nn.Module):\n",
    "    def __init__(self):\n",
    "        super(Modelo, self).__init__()\n",
    "        self.linear1 = nn.Linear(28*28, 128) # Camada de entrada, 784 neurônios que se ligam a 128\n",
    "        self.linear2 = nn.Linear(128, 64) # Camada interna 1, 128 neurônios que se ligam 64\n",
    "        self.linear3 = nn.Linear(64, 10) # Camada interna 2 64 neurônios que se ligam a 10\n",
    "        # Para a camada de saída não é necessário definir nada, pois só precisamos pegar o output da camada interna 2\n",
    "\n",
    "    def forward(self, X):\n",
    "        X = F.relu(self.linear1(X)) # funcao de ativação da camada de entrada para 1\n",
    "        X = F.relu(self.linear2(X)) # funcao de ativação da camada interna 1 para 2\n",
    "        X = self.linear3(X) # função de ativação da camada interna 2\n",
    "\n",
    "        return F.log_softmax(X, dim=1) # Dados utilizados para calcular a perda"
   ]
  },
  {
   "cell_type": "code",
   "execution_count": 22,
   "id": "5755e6d8-408c-4aea-8d39-3fe16bf7af3c",
   "metadata": {},
   "outputs": [],
   "source": [
    "def treino(modelo, trainloader, device):\n",
    "    # Definindo o otimizador\n",
    "    otimizador = optim.SGD(modelo.parameters(), lr=0.01, momentum=0.5)\n",
    "    \n",
    "    # Timer para saber quanto tempo levou o treino\n",
    "    inicio = time()\n",
    "    \n",
    "    # Critério para calcular a perda\n",
    "    criterio = nn.NLLLoss()\n",
    "    \n",
    "    # Número de epochs\n",
    "    EPOCHS = 10\n",
    "    \n",
    "    # Ativando o modo de treinamento do modelo\n",
    "    modelo.train()\n",
    "    \n",
    "    for epoch in range(EPOCHS):\n",
    "        perda_acumulada = 0  # Inicializando a perda acumulada da epoch em questão\n",
    "        \n",
    "        for imagens, etiquetas in trainloader:\n",
    "            # Convertendo as imagens para formato vetorial\n",
    "            imagens = imagens.view(imagens.shape[0], -1)\n",
    "            # Zerando os gradientes do ciclo anterior\n",
    "            otimizador.zero_grad()\n",
    "            # Colocando os dados no modelo\n",
    "            output = modelo(imagens.to(device))\n",
    "            # Calculando a perda\n",
    "            perda_instantanea = criterio(output, etiquetas.to(device))\n",
    "            \n",
    "            # Backpropagation\n",
    "            perda_instantanea.backward()\n",
    "            \n",
    "            # Atualizando os pesos e bias\n",
    "            otimizador.step()\n",
    "            \n",
    "            # Acumulando a perda\n",
    "            perda_acumulada += perda_instantanea.item()\n",
    "        \n",
    "        # Exibindo as estatísticas de cada epoch\n",
    "        print(f\"Epoch {epoch+1}/{EPOCHS}, Perda: {perda_acumulada:.4f}\")\n",
    "    \n",
    "    # Calculando o tempo total de treinamento\n",
    "    print(f\"Treinamento concluído em {time() - inicio:.2f} segundos.\")\n"
   ]
  },
  {
   "cell_type": "code",
   "execution_count": 23,
   "id": "cd6493cc-097e-4c58-9834-b389a720e8e7",
   "metadata": {},
   "outputs": [],
   "source": [
    "def validacao(modelo, valloader, device):\n",
    "    conta_corretas, conta_todas = 0, 0\n",
    "    for imagens, etiquetas in valloader:\n",
    "        for i in range(len(etiquetas)):\n",
    "            img = imagens[i].view(1, 784)  # Redimensionando a imagem\n",
    "            \n",
    "            # Desativar o autograd para acelerar a validação. Grafos computacionais dinâmicos têm um custo alto\n",
    "            with torch.no_grad():\n",
    "                logps = modelo(img.to(device))  # Output do modelo em escala logarítmica\n",
    "            \n",
    "            ps = torch.exp(logps)  # Converte output para escala normal (lembre-se que é um tensor)\n",
    "            probab = list(ps.cpu().numpy()[0])  # Converte o tensor para lista de probabilidades\n",
    "            etiqueta_pred = probab.index(max(probab))  # Índice com maior probabilidade\n",
    "            etiqueta_certa = etiquetas.numpy()[i]  # Etiqueta correta\n",
    "            \n",
    "            # Compara a previsão com o valor correto\n",
    "            if etiqueta_certa == etiqueta_pred:\n",
    "                conta_corretas += 1\n",
    "            conta_todas += 1\n",
    "    \n",
    "    print(\"Total de imagens testadas =\", conta_todas)\n",
    "    print(\"\\nPrecisão do modelo = {}\".format(conta_corretas * 100 / conta_todas))"
   ]
  },
  {
   "cell_type": "code",
   "execution_count": 24,
   "id": "a4d23d28-b8c0-4ce8-97c2-8b1f89639d9f",
   "metadata": {},
   "outputs": [],
   "source": [
    "modelo = Modelo()\n",
    "\n",
    "#device = torch.divice()\n",
    "\n",
    "#modelo.to(divice)"
   ]
  },
  {
   "cell_type": "code",
   "execution_count": null,
   "id": "bd4555de-0c87-486f-80e8-04459205fce5",
   "metadata": {},
   "outputs": [],
   "source": [
    "modelo.train"
   ]
  }
 ],
 "metadata": {
  "kernelspec": {
   "display_name": "Python 3 (ipykernel)",
   "language": "python",
   "name": "python3"
  },
  "language_info": {
   "codemirror_mode": {
    "name": "ipython",
    "version": 3
   },
   "file_extension": ".py",
   "mimetype": "text/x-python",
   "name": "python",
   "nbconvert_exporter": "python",
   "pygments_lexer": "ipython3",
   "version": "3.12.3"
  }
 },
 "nbformat": 4,
 "nbformat_minor": 5
}
